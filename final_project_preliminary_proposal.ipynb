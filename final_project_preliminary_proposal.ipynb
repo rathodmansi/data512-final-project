{
 "cells": [
  {
   "cell_type": "markdown",
   "metadata": {},
   "source": [
    "## Final Project Preliminary Proposal <br>\n",
    "\n",
    "For my DATA512: Human-centered Data Science subject, I am interested in researching and analyzing into the topics of People Analytics. I am interested in looking into what are the key reasons that make an employee leave and if there are possible indicators (existing or engineered during the course of analysis) that can help us predict employee attrition beforehand.\n",
    "\n",
    "My Motivation to pursue this project comes from my 2 years of professional work experience as a Business Analyst for OYO, a travel & hospitality related startup. I handled their Sales Operation Analaytics and was the owner for Incentives and Performance Management project for the entire 2 years. With this project, I want to further explore into the causes of employee attrition and if possible identify indicators leading to it. This project is interesting from any organisation's purview because companies not only money but time and resources in grooming and  training their employees. A single employee's resignation is not only a loss of head count but also a loss in terms of times, money and bandwidth. I also found this topic to be in line to what I learnt about human centred data science from this class. This project can provide useful insights into what people value the most in their job: salary, evauluation or work quality. I hope to generate insights that can be readily utilized by an organisation to strengthen their decision in terms of improving employee satisfaction, and boost their enthusiasm if found low. \n",
    "\n",
    "### Data \n",
    "<br>\n",
    "\n",
    "For my analysis, I wanted a simpler data and one publicly available. I came across this Kaggel Data Challenge: <b>HR Data for Analytics</b>. Link to the dataset: https://www.kaggle.com/jacksonchou/hr-data-for-analytics.\n",
    "\n",
    "The data is publicly available and under the CC0: Public Domain license.The dataset contains employee profiles of a large company, where each record is an employee. It has the follwoing columns available:\n",
    "\n",
    "- satisfaction_level\n",
    "- last_evaluation\n",
    "- number_project\n",
    "- average_montly_hours\n",
    "- time_spend_company\n",
    "- Work_accident\n",
    "- left\n",
    "- promotion_last_5years\n",
    "- sales\n",
    "- salary\n",
    "\n",
    "### Unknown Dependency\n",
    "\n",
    "Currently, I havn't come acorss any factor or limitations that would hamper the progress of this project.\n"
   ]
  },
  {
   "cell_type": "code",
   "execution_count": null,
   "metadata": {},
   "outputs": [],
   "source": []
  }
 ],
 "metadata": {
  "kernelspec": {
   "display_name": "Python 3",
   "language": "python",
   "name": "python3"
  },
  "language_info": {
   "codemirror_mode": {
    "name": "ipython",
    "version": 3
   },
   "file_extension": ".py",
   "mimetype": "text/x-python",
   "name": "python",
   "nbconvert_exporter": "python",
   "pygments_lexer": "ipython3",
   "version": "3.7.7"
  }
 },
 "nbformat": 4,
 "nbformat_minor": 4
}
